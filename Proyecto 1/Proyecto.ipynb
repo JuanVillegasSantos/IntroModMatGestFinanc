{
 "cells": [
  {
   "cell_type": "markdown",
   "metadata": {},
   "source": [
    "# Punto 0"
   ]
  },
  {
   "cell_type": "markdown",
   "metadata": {},
   "source": [
    "Nombres de empresas:\n",
    "ANSS-Ansys Inc.; GOOG-Google; GTQ1.F-Siemens; MSFT-Microsoft;\n",
    "TM-Toyota Motors\n",
    "\n",
    "DataFrame:\n",
    "Date-Open-High-Low-Close-Adj Close-Volume"
   ]
  },
  {
   "cell_type": "markdown",
   "metadata": {},
   "source": [
    "Funciones"
   ]
  },
  {
   "cell_type": "code",
   "execution_count": 101,
   "metadata": {},
   "outputs": [],
   "source": [
    "import numpy as np\n",
    "import os\n",
    "import pandas as pd\n",
    "import matplotlib.pyplot as plt\n",
    "from numpy.linalg import inv\n",
    "\n",
    "\n",
    "u=np.ones(5)\n",
    "Names=['ANSYS','GOOGLE','SIEMENS','MICROSOFT','TOYOTA']\n",
    "Symbols=['ANSS','GOOG','GTQ1.F','MSFT','TM']\n",
    "\n",
    "    \n",
    "def llamarDatos (nombreArchivo):\n",
    "    serie=os.path.join('.',nombreArchivo+'.csv')\n",
    "    serie_pd = pd.read_csv(serie, sep = ',',encoding='latin-1')\n",
    "    serie_pd =serie_pd.drop(0,axis=0)\n",
    "    return serie_pd\n",
    "\n",
    "def rendHist (TipoCosteo,symbol):\n",
    "    Rend=[]\n",
    "    for x in range(1,25):\n",
    "        data=llamarDatos(symbol)[TipoCosteo]\n",
    "        rend_n=np.log(data[x+1]/data[x])\n",
    "        Rend=np.append(Rend,rend_n)\n",
    "    return Rend\n",
    "\n",
    "def rendProm (TipoCosteo):\n",
    "    R=pd.DataFrame({'Names':Names,\n",
    "                'Symbols':Symbols})\n",
    "    Rend=[]\n",
    "    for n in Symbols:\n",
    "        r=rendHist(TipoCosteo,n)\n",
    "        Rend=np.append(Rend,np.mean(r))\n",
    "    R['Rendimientos']=Rend\n",
    "    return R\n",
    "\n",
    "def matrixS (TipoCosteo):\n",
    "    anss=rendHist(TipoCosteo,'ANSS')\n",
    "    goog=rendHist(TipoCosteo,'GOOG')\n",
    "    gtq1=rendHist(TipoCosteo,'GTQ1.F')\n",
    "    msft=rendHist(TipoCosteo,'MSFT')\n",
    "    tm=rendHist(TipoCosteo,'TM')\n",
    "    X=[anss,goog,gtq1,msft,tm]\n",
    "    S=np.cov(X)\n",
    "    return S\n",
    "\n",
    "def varianzas(TipoCosteo):\n",
    "    r=rendProm (TipoCosteo)\n",
    "    variances=[]\n",
    "    for name in r['Symbols']:\n",
    "        data=rendHist(TipoCosteo,name)\n",
    "        var=np.var(data,axis=0)\n",
    "        variances=np.append(variances,var)\n",
    "    return variances\n",
    "\n",
    "def ABCD(TipoCosteo):\n",
    "    S=matrixS(TipoCosteo)\n",
    "    r=rendProm(TipoCosteo)['Rendimientos']\n",
    "    A=np.dot(u.T,np.dot(inv(S),u))\n",
    "    B=np.dot(u.T,np.dot(inv(S),r))\n",
    "    C=np.dot(r.T,np.dot(inv(S),r))\n",
    "    D=A*C-B**2\n",
    "    return {'A':A,'B':B,'C':C,'D':D}\n",
    "\n",
    "def var_r(TipoCosteo):\n",
    "    A=ABCD(TipoCosteo)['A']\n",
    "    B=ABCD(TipoCosteo)['B']\n",
    "    C=ABCD(TipoCosteo)['C']\n",
    "    D=ABCD(TipoCosteo)['D']\n",
    "    r=np.linspace(min(rendProm(TipoCosteo)['Rendimientos']),2*max(rendProm(TipoCosteo)['Rendimientos']))\n",
    "    varR=[]\n",
    "    var=[((A*value**2-2*B*value+C)/D) for value in r]\n",
    "    varR=np.append(varR,var)\n",
    "    return varR,r\n",
    "tipoCosteo='High'"
   ]
  },
  {
   "cell_type": "code",
   "execution_count": 102,
   "metadata": {},
   "outputs": [
    {
     "data": {
      "text/html": [
       "<div>\n",
       "<style scoped>\n",
       "    .dataframe tbody tr th:only-of-type {\n",
       "        vertical-align: middle;\n",
       "    }\n",
       "\n",
       "    .dataframe tbody tr th {\n",
       "        vertical-align: top;\n",
       "    }\n",
       "\n",
       "    .dataframe thead th {\n",
       "        text-align: right;\n",
       "    }\n",
       "</style>\n",
       "<table border=\"1\" class=\"dataframe\">\n",
       "  <thead>\n",
       "    <tr style=\"text-align: right;\">\n",
       "      <th></th>\n",
       "      <th>Names</th>\n",
       "      <th>Symbols</th>\n",
       "      <th>Rendimientos</th>\n",
       "    </tr>\n",
       "  </thead>\n",
       "  <tbody>\n",
       "    <tr>\n",
       "      <th>0</th>\n",
       "      <td>ANSYS</td>\n",
       "      <td>ANSS</td>\n",
       "      <td>0.023960</td>\n",
       "    </tr>\n",
       "    <tr>\n",
       "      <th>1</th>\n",
       "      <td>GOOGLE</td>\n",
       "      <td>GOOG</td>\n",
       "      <td>0.014179</td>\n",
       "    </tr>\n",
       "    <tr>\n",
       "      <th>2</th>\n",
       "      <td>SIEMENS</td>\n",
       "      <td>GTQ1.F</td>\n",
       "      <td>-0.012498</td>\n",
       "    </tr>\n",
       "    <tr>\n",
       "      <th>3</th>\n",
       "      <td>MICROSOFT</td>\n",
       "      <td>MSFT</td>\n",
       "      <td>0.020633</td>\n",
       "    </tr>\n",
       "    <tr>\n",
       "      <th>4</th>\n",
       "      <td>TOYOTA</td>\n",
       "      <td>TM</td>\n",
       "      <td>0.007993</td>\n",
       "    </tr>\n",
       "  </tbody>\n",
       "</table>\n",
       "</div>"
      ],
      "text/plain": [
       "       Names Symbols  Rendimientos\n",
       "0      ANSYS    ANSS      0.023960\n",
       "1     GOOGLE    GOOG      0.014179\n",
       "2    SIEMENS  GTQ1.F     -0.012498\n",
       "3  MICROSOFT    MSFT      0.020633\n",
       "4     TOYOTA      TM      0.007993"
      ]
     },
     "execution_count": 102,
     "metadata": {},
     "output_type": "execute_result"
    }
   ],
   "source": [
    "r=rendProm(tipoCosteo)#Vector r\n",
    "S=matrixS(tipoCosteo)#Matriz S\n",
    "r"
   ]
  },
  {
   "cell_type": "markdown",
   "metadata": {},
   "source": [
    "# Punto 2 PP"
   ]
  },
  {
   "cell_type": "markdown",
   "metadata": {},
   "source": [
    "## 2.e"
   ]
  },
  {
   "cell_type": "code",
   "execution_count": 103,
   "metadata": {},
   "outputs": [
    {
     "name": "stdout",
     "output_type": "stream",
     "text": [
      "La matriz si es definitivamente positiva\n",
      "[0.00629634 0.0032857  0.00220434 0.00019019 0.00107305]\n"
     ]
    }
   ],
   "source": [
    "v=np.linalg.eigvals(S)#Valores propios de la matriz S\n",
    "if all(item>0 for item in v):\n",
    "    print('La matriz si es definitivamente positiva')\n",
    "print (v)"
   ]
  },
  {
   "cell_type": "markdown",
   "metadata": {},
   "source": [
    "## 2.f"
   ]
  },
  {
   "cell_type": "code",
   "execution_count": 104,
   "metadata": {},
   "outputs": [
    {
     "name": "stdout",
     "output_type": "stream",
     "text": [
      "La matríz es invertible, su determinante es:  9.306865145345586e-15\n"
     ]
    }
   ],
   "source": [
    "if (np.linalg.det(S)>0)and(len(S[:,0]==len(S[0,:]))):\n",
    "    print ('La matríz es invertible, su determinante es: ',np.linalg.det(S))\n",
    "else:\n",
    "    print ('La matríz no es invertible, su determinante es: ',np.linalg.det(S))"
   ]
  },
  {
   "cell_type": "markdown",
   "metadata": {},
   "source": [
    "# Punto 3"
   ]
  },
  {
   "cell_type": "markdown",
   "metadata": {},
   "source": [
    "**Varianza-Retorno**"
   ]
  },
  {
   "cell_type": "code",
   "execution_count": 113,
   "metadata": {},
   "outputs": [
    {
     "data": {
      "image/png": "[encoded data removed]",
      "text/plain": [
       "<matplotlib.figure.Figure at 0x1d5c65d4518>"
      ]
     },
     "metadata": {},
     "output_type": "display_data"
    },
    {
     "name": "stdout",
     "output_type": "stream",
     "text": [
      "{'A': 1287.2110886628907, 'B': 18.801519881705456, 'C': 0.6419437783216839, 'D': 472.81999989165854}\n",
      "\n"
     ]
    },
    {
     "data": {
      "text/html": [
       "<div>\n",
       "<style scoped>\n",
       "    .dataframe tbody tr th:only-of-type {\n",
       "        vertical-align: middle;\n",
       "    }\n",
       "\n",
       "    .dataframe tbody tr th {\n",
       "        vertical-align: top;\n",
       "    }\n",
       "\n",
       "    .dataframe thead th {\n",
       "        text-align: right;\n",
       "    }\n",
       "</style>\n",
       "<table border=\"1\" class=\"dataframe\">\n",
       "  <thead>\n",
       "    <tr style=\"text-align: right;\">\n",
       "      <th></th>\n",
       "      <th>Names</th>\n",
       "      <th>Symbols</th>\n",
       "      <th>Rendimientos</th>\n",
       "      <th>Varianzas</th>\n",
       "    </tr>\n",
       "  </thead>\n",
       "  <tbody>\n",
       "    <tr>\n",
       "      <th>0</th>\n",
       "      <td>ANSYS</td>\n",
       "      <td>ANSS</td>\n",
       "      <td>0.023960</td>\n",
       "      <td>0.002472</td>\n",
       "    </tr>\n",
       "    <tr>\n",
       "      <th>1</th>\n",
       "      <td>GOOGLE</td>\n",
       "      <td>GOOG</td>\n",
       "      <td>0.014179</td>\n",
       "      <td>0.001580</td>\n",
       "    </tr>\n",
       "    <tr>\n",
       "      <th>2</th>\n",
       "      <td>SIEMENS</td>\n",
       "      <td>GTQ1.F</td>\n",
       "      <td>-0.012498</td>\n",
       "      <td>0.005585</td>\n",
       "    </tr>\n",
       "    <tr>\n",
       "      <th>3</th>\n",
       "      <td>MICROSOFT</td>\n",
       "      <td>MSFT</td>\n",
       "      <td>0.020633</td>\n",
       "      <td>0.001506</td>\n",
       "    </tr>\n",
       "    <tr>\n",
       "      <th>4</th>\n",
       "      <td>TOYOTA</td>\n",
       "      <td>TM</td>\n",
       "      <td>0.007993</td>\n",
       "      <td>0.001363</td>\n",
       "    </tr>\n",
       "  </tbody>\n",
       "</table>\n",
       "</div>"
      ],
      "text/plain": [
       "       Names Symbols  Rendimientos  Varianzas\n",
       "0      ANSYS    ANSS      0.023960   0.002472\n",
       "1     GOOGLE    GOOG      0.014179   0.001580\n",
       "2    SIEMENS  GTQ1.F     -0.012498   0.005585\n",
       "3  MICROSOFT    MSFT      0.020633   0.001506\n",
       "4     TOYOTA      TM      0.007993   0.001363"
      ]
     },
     "execution_count": 113,
     "metadata": {},
     "output_type": "execute_result"
    }
   ],
   "source": [
    "r['Varianzas']=varianzas(tipoCosteo)\n",
    "var=sorted(r['Varianzas'].values)\n",
    "retorno=sorted(r['Rendimientos'].values)\n",
    "A=ABCD(tipoCosteo)['A']; B=ABCD(tipoCosteo)['B']; C=ABCD(tipoCosteo)['C']; D=ABCD(tipoCosteo)['D']\n",
    "rEf=max(var_r(tipoCosteo)[1]); varEf=(A*rEf**2-2*B*rEf+C)/D\n",
    "var\n",
    "\n",
    "plt.plot(1/A,B/A,'ro'); plt.plot(varEf,rEf,'ro') #Vertice frontera eficiente; Portafolio\n",
    "plt.plot(var,retorno,'b*')\n",
    "plt.plot(var_r(tipoCosteo)[0],var_r(tipoCosteo)[1],'g')\n",
    "plt.plot([1/A,varEf],[B/A,rEf],'r-')\n",
    "plt.xlabel('Varianza');plt.ylabel('Rendimiento')\n",
    "plt.grid()\n",
    "plt.show()\n",
    "\n",
    "print (ABCD(tipoCosteo))\n",
    "print('')\n",
    "r"
   ]
  },
  {
   "cell_type": "markdown",
   "metadata": {},
   "source": [
    "**Desviación-Retorno**"
   ]
  },
  {
   "cell_type": "code",
   "execution_count": null,
   "metadata": {},
   "outputs": [],
   "source": []
  }
 ],
 "metadata": {
  "kernelspec": {
   "display_name": "Python 3",
   "language": "python",
   "name": "python3"
  },
  "language_info": {
   "codemirror_mode": {
    "name": "ipython",
    "version": 3
   },
   "file_extension": ".py",
   "mimetype": "text/x-python",
   "name": "python",
   "nbconvert_exporter": "python",
   "pygments_lexer": "ipython3",
   "version": "3.6.4"
  }
 },
 "nbformat": 4,
 "nbformat_minor": 2
}
